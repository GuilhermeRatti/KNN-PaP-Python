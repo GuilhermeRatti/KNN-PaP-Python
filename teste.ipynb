{
 "cells": [
  {
   "cell_type": "code",
   "execution_count": null,
   "id": "3ced9b91",
   "metadata": {},
   "outputs": [],
   "source": [
    "a = []\n",
    "a.append([68,2311,5314,376,567,6547])\n",
    "a.append([15,2387891,57894,167,5127,67])\n",
    "a.append([2353456,311,54,37,56123,65677])\n",
    "a.append([121,2411,534,367,50897,657])\n",
    "a.sort()"
   ]
  },
  {
   "cell_type": "code",
   "execution_count": null,
   "id": "b739e7ab",
   "metadata": {},
   "outputs": [],
   "source": []
  }
 ],
 "metadata": {
  "kernelspec": {
   "display_name": "Python 3",
   "language": "python",
   "name": "python3"
  },
  "language_info": {
   "codemirror_mode": {
    "name": "ipython",
    "version": 3
   },
   "file_extension": ".py",
   "mimetype": "text/x-python",
   "name": "python",
   "nbconvert_exporter": "python",
   "pygments_lexer": "ipython3",
   "version": "3.13.3"
  }
 },
 "nbformat": 4,
 "nbformat_minor": 5
}
